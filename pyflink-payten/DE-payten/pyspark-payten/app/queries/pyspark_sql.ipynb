{
    "cells": [
        {
            "cell_type": "code",
            "execution_count": 8,
            "metadata": {
                "scrolled": true
            },
            "outputs": [],
            "source": [
                "from pyspark.sql import SparkSession\n",
                "spark = SparkSession.builder.appName('abc').getOrCreate()"
            ]
        },
        {
            "cell_type": "code",
            "execution_count": 7,
            "metadata": {
                "scrolled": false
            },
            "outputs": [
                {
                    "name": "stdout",
                    "output_type": "stream",
                    "text": [
                        "Collecting pyspark==3.0.1\n",
                        "  Downloading pyspark-3.0.1.tar.gz (204.2 MB)\n",
                        "\u001B[K     |████████████████████████████████| 204.2 MB 94 kB/s s eta 0:00:01\n",
                        "\u001B[?25hCollecting py4j==0.10.9\n",
                        "  Using cached py4j-0.10.9-py2.py3-none-any.whl (198 kB)\n",
                        "Building wheels for collected packages: pyspark\n",
                        "  Building wheel for pyspark (setup.py) ... \u001B[?25ldone\n",
                        "\u001B[?25h  Created wheel for pyspark: filename=pyspark-3.0.1-py2.py3-none-any.whl size=204612242 sha256=14461dde0fce484754293478ff4bab4200fda297a6fa43e87388e512a33c50fb\n",
                        "  Stored in directory: /Users/violetamilanovic/Library/Caches/pip/wheels/ea/21/84/970b03913d0d6a96ef51c34c878add0de9e4ecbb7c764ea21f\n",
                        "Successfully built pyspark\n",
                        "Installing collected packages: py4j, pyspark\n",
                        "  Attempting uninstall: py4j\n",
                        "    Found existing installation: py4j 0.10.7\n",
                        "    Uninstalling py4j-0.10.7:\n",
                        "      Successfully uninstalled py4j-0.10.7\n",
                        "  Attempting uninstall: pyspark\n",
                        "    Found existing installation: pyspark 2.4.4\n",
                        "    Uninstalling pyspark-2.4.4:\n",
                        "      Successfully uninstalled pyspark-2.4.4\n",
                        "Successfully installed py4j-0.10.9 pyspark-3.0.1\n"
                    ]
                }
            ],
            "source": [
                "!pip install pyspark==3.0.1"
            ]
        },
        {
            "cell_type": "code",
            "execution_count": 5,
            "metadata": {},
            "outputs": [
                {
                    "name": "stdout",
                    "output_type": "stream",
                    "text": [
                        "Python 3.8.8\r\n"
                    ]
                }
            ],
            "source": [
                "!python --version"
            ]
        },
        {
            "cell_type": "code",
            "execution_count": 10,
            "metadata": {},
            "outputs": [],
            "source": [
                "#ransactions  = spark.read.option(\"escape\",\"\\\"\").option(\"multiline\",True).csv(\"./trans.csv\", header=True, sep=\",\")"
            ]
        },
        {
            "cell_type": "code",
            "execution_count": 14,
            "metadata": {},
            "outputs": [],
            "source": [
                "#products  = spark.read.option(\"escape\",\"\\\"\").option(\"multiline\",True).csv(\"../input/dropped_dup.csv\", header=True, sep=\",\")\n",
                "customers  = spark.read.option(\"escape\",\"\\\"\").option(\"multiline\",True).csv(\"../input/customers.csv\", header=True, sep=\",\")\n",
                "transactions  = spark.read.option(\"escape\",\"\\\"\").option(\"multiline\",True).csv(\"../input/transactions.csv\", header=True, sep=\",\")#"
            ]
        },
        {
            "cell_type": "code",
            "execution_count": 4,
            "metadata": {},
            "outputs": [],
            "source": [
                "products_wc = spark.read.option(\"escape\",\"\\\"\").option(\"multiline\",True).csv(\"./products2.csv\", header=True, sep=\"|\")"
            ]
        },
        {
            "cell_type": "code",
            "execution_count": 16,
            "metadata": {},
            "outputs": [],
            "source": [
                "#products.createOrReplaceTempView(\"products\")\n",
                "#customers.createOrReplaceTempView(\"customers\")\n",
                "transactions.createOrReplaceTempView(\"transactions\")"
            ]
        },
        {
            "cell_type": "code",
            "execution_count": 239,
            "metadata": {},
            "outputs": [
                {
                    "name": "stdout",
                    "output_type": "stream",
                    "text": [
                        "+--------------+----------+------------------+-------------------+-----------+\n",
                        "|transaction_id|product_id|transaction_amount|   transaction_date|customer_id|\n",
                        "+--------------+----------+------------------+-------------------+-----------+\n",
                        "|        172161|9742356831|             49.01|2020-02-08 08:09:39|     754658|\n",
                        "|        155162|B00005344V|            100.43|2019-12-29 09:56:46|     945224|\n",
                        "|        248916|B000052X2S|            491.91|2020-05-02 07:10:24|     061595|\n",
                        "|        477300|5463213682|            215.05|2020-03-19 08:00:03|     061595|\n",
                        "|        926780|9742356831|            690.79|2020-02-02 05:12:57|     033396|\n",
                        "+--------------+----------+------------------+-------------------+-----------+\n",
                        "only showing top 5 rows\n",
                        "\n"
                    ]
                }
            ],
            "source": []
        },
        {
            "cell_type": "code",
            "execution_count": 240,
            "metadata": {},
            "outputs": [
                {
                    "name": "stdout",
                    "output_type": "stream",
                    "text": [
                        "root\n",
                        " |-- transaction_id: string (nullable = true)\n",
                        " |-- product_id: string (nullable = true)\n",
                        " |-- transaction_amount: string (nullable = true)\n",
                        " |-- transaction_date: string (nullable = true)\n",
                        " |-- customer_id: string (nullable = true)\n",
                        "\n"
                    ]
                }
            ],
            "source": [
                "transactions.printSchema()"
            ]
        },
        {
            "cell_type": "code",
            "execution_count": 19,
            "metadata": {},
            "outputs": [
                {
                    "name": "stdout",
                    "output_type": "stream",
                    "text": [
                        "+----------------+------+------+------------------+\n",
                        "|          avg_ta|min_ta|max_ta|            sum_ta|\n",
                        "+----------------+------+------+------------------+\n",
                        "|251.723409599998|   0.0|992.26|1.25861704799999E7|\n",
                        "+----------------+------+------+------------------+\n",
                        "\n"
                    ]
                }
            ],
            "source": [
                "spark.sql(\"\"\"\n",
                "    select \n",
                "    avg(cast(transaction_amount as double)) as avg_ta,\n",
                "    min(cast(transaction_amount as double)) as min_ta,\n",
                "    max(cast(transaction_amount as double)) as max_ta,\n",
                "    sum(cast(transaction_amount as double)) as sum_ta\n",
                "    from transactions\"\"\").show()"
            ]
        },
        {
            "cell_type": "code",
            "execution_count": 233,
            "metadata": {},
            "outputs": [
                {
                    "data": {
                        "text/plain": [
                            "929.07"
                        ]
                    },
                    "execution_count": 233,
                    "metadata": {},
                    "output_type": "execute_result"
                }
            ],
            "source": [
                "import pyspark.sql.functions as F\n",
                "transactions.agg(F.max(F.abs(transactions.transaction_amount))).first()[0]"
            ]
        },
        {
            "cell_type": "code",
            "execution_count": 252,
            "metadata": {},
            "outputs": [
                {
                    "name": "stdout",
                    "output_type": "stream",
                    "text": [
                        "+--------------+----------+------------------+-------------------+-----------+----------+--------------------+--------------------+--------------------+--------------------+-----------+-----------+----------+---------+------+-----------+-------------------+--------------------+----------+----------+---------------+--------+--------------+------+-----+----------------+\n",
                        "|transaction_id|product_id|transaction_amount|   transaction_date|customer_id|      asin|            category|               title|               brand|                rank|   main_cat|customer_id|first_name|last_name|gender|        ssn|        credit_card|credit_card_provider|birth_date|start_date|          title|  office|  organization|salary|bonus|accured_holidays|\n",
                        "+--------------+----------+------------------+-------------------+-----------+----------+--------------------+--------------------+--------------------+--------------------+-----------+-----------+----------+---------+------+-----------+-------------------+--------------------+----------+----------+---------------+--------+--------------+------+-----+----------------+\n",
                        "|        172161|9742356831|             49.01|2020-02-08 08:09:39|     754658|9742356831|Grocery & Gourmet...|Mae Ploy Green Cu...|            Mae Ploy|39,261inGroceryGo...|    Grocery|     754658|    Sandra|     Dunn|     F|150-77-6456|   6525027421777919|       VISA 19 digit|1980-09-04|2017-08-26|        Manager| Seattle|       Product|136000|25500|              13|\n",
                        "|        155162|B00005344V|            100.43|2019-12-29 09:56:46|     945224|B00005344V|Grocery & Gourmet...|Traditional Medic...|Traditional Medic...|13,305inGroceryGo...|    Grocery|     945224|     David| Williams|     M|266-04-7690|4079083660232956251|       VISA 19 digit|1991-10-28|2019-10-21|      Associate|New York|         Sales| 60000| 9500|              20|\n",
                        "|        248916|B000052X2S|            491.91|2020-05-02 07:10:24|     061595|B000052X2S|Grocery & Gourmet...|Ricola Cough Supp...|              Ricola|30,623inGroceryGo...|    Grocery|     061595|   Gregory|   Duncan|     M|537-25-4666|   6011372912632509|       VISA 19 digit|1993-11-06|2012-11-01|Senior Engineer|  Austin|        Devops|122000|20500|               1|\n",
                        "|        477300|5463213682|            215.05|2020-03-19 08:00:03|     061595|5463213682|Grocery & Gourmet...|Organo Gold Cafe ...|         Organo Gold|89,943inGroceryGo...|    Grocery|     061595|   Gregory|   Duncan|     M|537-25-4666|   6011372912632509|       VISA 19 digit|1993-11-06|2012-11-01|Senior Engineer|  Austin|        Devops|122000|20500|               1|\n",
                        "|        926780|9742356831|            690.79|2020-02-02 05:12:57|     033396|9742356831|Grocery & Gourmet...|Mae Ploy Green Cu...|            Mae Ploy|39,261inGroceryGo...|    Grocery|     033396|    Edward|    Myers|     M|663-98-7070|      4942795989127|        JCB 15 digit|1970-05-15|2003-05-07|Senior Engineer| Chicago|        Devops|134000|21500|              16|\n",
                        "|        491354|9742356831|             65.62|2020-01-21 20:41:16|     926507|9742356831|Grocery & Gourmet...|Mae Ploy Green Cu...|            Mae Ploy|39,261inGroceryGo...|    Grocery|     926507|    Travis|   Rhodes|     M|747-25-6402|   4677523047685958|             Maestro|1971-11-30|2007-11-21|      Associate|New York|         Sales| 69000|12500|               3|\n",
                        "|        021936|B00004S1C5|             46.54|2019-10-22 06:47:39|     225016|B00004S1C5|Grocery & Gourmet...|Ateco Food Colori...|Harold Import Com...|>#257,139 in Kitc...|Amazon Home|     225016|     Stacy|     Ford|     F|565-91-9328|    180098844431821|            Discover|1988-01-09|2012-01-03|Senior Engineer|  Austin|Internal Tools|119000|19000|              20|\n",
                        "|        943086|B00005AS53|            125.24|2019-10-05 21:13:53|     649364|B00005AS53|Grocery & Gourmet...|Vacu Vin Coffee S...|            Vacu Vin|>#1,646,318 in Ki...|Amazon Home|     649364|    Hannah|    Wells|     F|742-99-8196|   3501353323366162|        JCB 16 digit|1988-02-29|2019-02-21|      Associate|New York|         Sales| 75000|12000|              10|\n",
                        "|        135819|B00004S1C5|             16.46|2019-09-05 14:34:17|     945224|B00004S1C5|Grocery & Gourmet...|Ateco Food Colori...|Harold Import Com...|>#257,139 in Kitc...|Amazon Home|     945224|     David| Williams|     M|266-04-7690|4079083660232956251|       VISA 19 digit|1991-10-28|2019-10-21|      Associate|New York|         Sales| 60000| 9500|              20|\n",
                        "|        757944|B00005344V|            899.93|2019-09-27 09:45:38|     061595|B00005344V|Grocery & Gourmet...|Traditional Medic...|Traditional Medic...|13,305inGroceryGo...|    Grocery|     061595|   Gregory|   Duncan|     M|537-25-4666|   6011372912632509|       VISA 19 digit|1993-11-06|2012-11-01|Senior Engineer|  Austin|        Devops|122000|20500|               1|\n",
                        "|        472565|B00005344V|             529.4|2020-01-15 03:03:46|     945224|B00005344V|Grocery & Gourmet...|Traditional Medic...|Traditional Medic...|13,305inGroceryGo...|    Grocery|     945224|     David| Williams|     M|266-04-7690|4079083660232956251|       VISA 19 digit|1991-10-28|2019-10-21|      Associate|New York|         Sales| 60000| 9500|              20|\n",
                        "|        879615|B00005344V|            116.77|2020-05-31 04:06:15|     491581|B00005344V|Grocery & Gourmet...|Traditional Medic...|Traditional Medic...|13,305inGroceryGo...|    Grocery|     491581|  Jennifer|  Jackson|     F|899-64-7203|4508464571120561979|       VISA 16 digit|1986-11-22|2019-11-14|             VP|  Austin|       Product|199000|34500|              17|\n",
                        "|        163799|4639725043|            296.87|2020-08-09 03:25:00|     061595|4639725043|Grocery & Gourmet...|Lipton Yellow Lab...|              Lipton|30,937inGroceryGo...|    Grocery|     061595|   Gregory|   Duncan|     M|537-25-4666|   6011372912632509|       VISA 19 digit|1993-11-06|2012-11-01|Senior Engineer|  Austin|        Devops|122000|20500|               1|\n",
                        "|        789620|B00005344V|             18.63|2020-01-31 16:45:20|     061595|B00005344V|Grocery & Gourmet...|Traditional Medic...|Traditional Medic...|13,305inGroceryGo...|    Grocery|     061595|   Gregory|   Duncan|     M|537-25-4666|   6011372912632509|       VISA 19 digit|1993-11-06|2012-11-01|Senior Engineer|  Austin|        Devops|122000|20500|               1|\n",
                        "|        304926|9742356831|            510.15|2020-03-10 09:34:17|     754658|9742356831|Grocery & Gourmet...|Mae Ploy Green Cu...|            Mae Ploy|39,261inGroceryGo...|    Grocery|     754658|    Sandra|     Dunn|     F|150-77-6456|   6525027421777919|       VISA 19 digit|1980-09-04|2017-08-26|        Manager| Seattle|       Product|136000|25500|              13|\n",
                        "|        892919|9742356831|            292.66|2019-11-14 03:29:11|     945224|9742356831|Grocery & Gourmet...|Mae Ploy Green Cu...|            Mae Ploy|39,261inGroceryGo...|    Grocery|     945224|     David| Williams|     M|266-04-7690|4079083660232956251|       VISA 19 digit|1991-10-28|2019-10-21|      Associate|New York|         Sales| 60000| 9500|              20|\n",
                        "|        976723|B000052X2S|             86.72|2019-11-28 18:41:27|     484308|B000052X2S|Grocery & Gourmet...|Ricola Cough Supp...|              Ricola|30,623inGroceryGo...|    Grocery|     484308|    Joseph|     Ward|     M|327-42-5400|   3588864720110959|Diners Club / Car...|1975-10-29|2012-10-19|       Engineer|  Austin|        Devops| 94000|15500|              12|\n",
                        "|        152794|B00005344V|            196.22|2019-09-04 03:19:26|     945224|B00005344V|Grocery & Gourmet...|Traditional Medic...|Traditional Medic...|13,305inGroceryGo...|    Grocery|     945224|     David| Williams|     M|266-04-7690|4079083660232956251|       VISA 19 digit|1991-10-28|2019-10-21|      Associate|New York|         Sales| 60000| 9500|              20|\n",
                        "|        694730|9742356831|             567.3|2020-01-05 03:31:15|     657212|9742356831|Grocery & Gourmet...|Mae Ploy Green Cu...|            Mae Ploy|39,261inGroceryGo...|    Grocery|     657212|   Natalie|   Pruitt|     F|409-24-9427|   5147060747351044|             Maestro|1984-11-16|2013-11-09|             VP| Seattle|Internal Tools|220000|34000|               8|\n",
                        "|        634583|5463213682|            118.82|2020-07-17 10:18:55|     061595|5463213682|Grocery & Gourmet...|Organo Gold Cafe ...|         Organo Gold|89,943inGroceryGo...|    Grocery|     061595|   Gregory|   Duncan|     M|537-25-4666|   6011372912632509|       VISA 19 digit|1993-11-06|2012-11-01|Senior Engineer|  Austin|        Devops|122000|20500|               1|\n",
                        "+--------------+----------+------------------+-------------------+-----------+----------+--------------------+--------------------+--------------------+--------------------+-----------+-----------+----------+---------+------+-----------+-------------------+--------------------+----------+----------+---------------+--------+--------------+------+-----+----------------+\n",
                        "only showing top 20 rows\n",
                        "\n"
                    ]
                }
            ],
            "source": [
                "spark.sql(\"\"\"select *\n",
                "        from transactions t left join products p on t.product_id=p.asin\n",
                "        left join customers c on t.customer_id=c.customer_id\"\"\").show()"
            ]
        },
        {
            "cell_type": "code",
            "execution_count": 261,
            "metadata": {},
            "outputs": [
                {
                    "name": "stdout",
                    "output_type": "stream",
                    "text": [
                        "+------------+--------------------+----------+\n",
                        "|customers_no|               title|product_id|\n",
                        "+------------+--------------------+----------+\n",
                        "|          40|WHOPPERS Candy (C...|B00005BPQ9|\n",
                        "|          38|Ricola Cough Supp...|B000052X2S|\n",
                        "|           3|Starbucks Tribute...|7621000880|\n",
                        "|         274|Traditional Medic...|B00005344V|\n",
                        "|          88|Metalware Open Co...|B00004W4VD|\n",
                        "|         234|Mae Ploy Green Cu...|9742356831|\n",
                        "|          82|Organo Gold Cafe ...|5463213682|\n",
                        "|          29|Lipton Yellow Lab...|4639725183|\n",
                        "|           6|Japanese Kit Kat ...|6163058011|\n",
                        "|          68|Lipton Yellow Lab...|4639725043|\n",
                        "|           5|EAS Myoplex Origi...|B000053408|\n",
                        "|          20|Vacu Vin Coffee S...|B00005AS53|\n",
                        "|         100|Ateco Food Colori...|B00004S1C5|\n",
                        "|           5|Letter S - Swarov...|1888861614|\n",
                        "|           8|Biotene Dry Mouth...|B000052Y74|\n",
                        "+------------+--------------------+----------+\n",
                        "\n"
                    ]
                }
            ],
            "source": [
                "spark.sql(\"\"\"\n",
                "        select \n",
                "        count(customer_id) as customers_no,\n",
                "        first(title) as title, \n",
                "        product_id \n",
                "        from transactions t left join products p on t.product_id = p.asin\n",
                "        group by product_id\"\"\").show()"
            ]
        },
        {
            "cell_type": "code",
            "execution_count": 6,
            "metadata": {},
            "outputs": [
                {
                    "name": "stdout",
                    "output_type": "stream",
                    "text": [
                        "+------------------------+-----------------------+------------------+----------+------------------+\n",
                        "|first(first_name, false)|first(last_name, false)|            avg_ta|avg_income|          spending|\n",
                        "+------------------------+-----------------------+------------------+----------+------------------+\n",
                        "|                   Tonya|                Holland|             346.7|  175500.0|          175153.3|\n",
                        "|                 Natalie|                 Pruitt|314.53142857142865|  254000.0|253685.46857142856|\n",
                        "|                  Hannah|                  Wells|            125.24|   87000.0|          86874.76|\n",
                        "|                   Stacy|                   Ford|241.45200000000006|  138000.0|        137758.548|\n",
                        "|                   Kevin|                 Mclean|            175.47|  163000.0|         162824.53|\n",
                        "+------------------------+-----------------------+------------------+----------+------------------+\n",
                        "only showing top 5 rows\n",
                        "\n"
                    ]
                }
            ],
            "source": [
                "spark.sql(\"\"\"\n",
                "        select \n",
                "        first(c.first_name),\n",
                "        first(c.last_name),\n",
                "        avg(transaction_amount) as avg_ta,\n",
                "        avg(salary+bonus) as avg_income,\n",
                "        avg(salary+bonus) - avg(transaction_amount) as spending\n",
                "        from transactions as t left join customers as c on t.customer_id = c.customer_id\n",
                "        group by c.customer_id\"\"\").show(5)"
            ]
        },
        {
            "cell_type": "code",
            "execution_count": 254,
            "metadata": {
                "scrolled": true
            },
            "outputs": [
                {
                    "name": "stdout",
                    "output_type": "stream",
                    "text": [
                        "+------------------+----------+------------+\n",
                        "|            avg_ta|avg_income|    spending|\n",
                        "+------------------+----------+------------+\n",
                        "|250.25398999999973|  129520.0|129269.74601|\n",
                        "+------------------+----------+------------+\n",
                        "\n"
                    ]
                }
            ],
            "source": [
                "spark.sql(\"\"\"\n",
                "        select \n",
                "        avg(transaction_amount) as avg_ta,\n",
                "        avg(salary+bonus) as avg_income,\n",
                "        avg(salary+bonus) - avg(transaction_amount) as spending\n",
                "        from transactions t left join customers c  on t.customer_id = c.customer_id\"\"\").show()"
            ]
        },
        {
            "cell_type": "code",
            "execution_count": 258,
            "metadata": {},
            "outputs": [
                {
                    "name": "stdout",
                    "output_type": "stream",
                    "text": [
                        "+------------------+----------+------------+\n",
                        "|            avg_ta|avg_income|    spending|\n",
                        "+------------------+----------+------------+\n",
                        "|250.25398999999973|  129520.0|129269.74601|\n",
                        "+------------------+----------+------------+\n",
                        "\n"
                    ]
                }
            ],
            "source": [
                "spark.sql(\"\"\"\n",
                "        select \n",
                "        avg(cast(transaction_amount as double)) as avg_ta,\n",
                "        avg(cast(salary as double) + cast(bonus as double)) as avg_income,\n",
                "        avg(cast(salary as double) + cast(bonus as double)) - avg(cast(transaction_amount as double)) as spending\n",
                "        from transactions t left join customers c  on t.customer_id = c.customer_id\"\"\").show()"
            ]
        },
        {
            "cell_type": "code",
            "execution_count": 7,
            "metadata": {},
            "outputs": [
                {
                    "name": "stdout",
                    "output_type": "stream",
                    "text": [
                        "+--------------+--------------------+--------------------+-------------------+--------------------+----------------------+------------------+---------------+---------------+----------+---------+\n",
                        "|     full_name|            products|       product_brand|           main_cat|        transactions|first_transaction_date|   avg_transaction|min_transaction|max_transaction|avg_salary|avg_bonus|\n",
                        "+--------------+--------------------+--------------------+-------------------+--------------------+----------------------+------------------+---------------+---------------+----------+---------+\n",
                        "| Tonya Holland|Mae Ploy Green Cu...|Mae Ploy;Traditio...|            Grocery|501147;639364;644...|   2019-11-17 02:44:22|             346.7|          85.72|         779.13|  147000.0|  28500.0|\n",
                        "|Natalie Pruitt|Metalware Open Co...|Whoppers;Vacu Vin...|Amazon Home;Grocery|694730;720988;488...|   2019-08-23 15:27:38|314.53142857142865|          30.28|         769.86|  220000.0|  34000.0|\n",
                        "|  Hannah Wells|Vacu Vin Coffee S...|            Vacu Vin|        Amazon Home|              943086|   2019-10-05 21:13:53|            125.24|         125.24|         125.24|   75000.0|  12000.0|\n",
                        "|    Stacy Ford|Metalware Open Co...|Whoppers;Nesco;Ma...|Amazon Home;Grocery|021936;176957;084...|   2019-10-22 06:47:39|241.45200000000006|          24.07|         620.25|  119000.0|  19000.0|\n",
                        "|  Kevin Mclean|Traditional Medic...|Traditional Medic...|            Grocery|       141172;148178|   2019-09-12 18:06:15|            175.47|          51.38|         299.56|  137000.0|  26000.0|\n",
                        "+--------------+--------------------+--------------------+-------------------+--------------------+----------------------+------------------+---------------+---------------+----------+---------+\n",
                        "only showing top 5 rows\n",
                        "\n"
                    ]
                }
            ],
            "source": [
                "spark.sql(\"\"\"\n",
                "        select\n",
                "        CONCAT(first(first_name), ' ', first(last_name))  as full_name,\n",
                "        CONCAT_WS(\";\",collect_set(p.title)) as products,\n",
                "        CONCAT_WS(\";\",collect_set(p.brand)) as product_brand,\n",
                "        CONCAT_WS(\";\",collect_set(p.main_cat)) as main_cat,\n",
                "        CONCAT_WS(\";\",collect_list(transaction_id)) as transactions,\n",
                "        MIN(transaction_date) as first_transaction_date,\n",
                "        avg(cast(transaction_amount as double)) as avg_transaction,\n",
                "        min(cast(transaction_amount as double)) as min_transaction,\n",
                "        max(cast(transaction_amount as double)) as max_transaction,\n",
                "        avg(cast(salary as double)) as avg_salary,\n",
                "        avg(cast(bonus as double)) as avg_bonus\n",
                "        from transactions t left join customers c on t.customer_id=c.customer_id\n",
                "        join products p on t.product_id = p.asin\n",
                "        group by t.customer_id\"\"\").show(5)"
            ]
        },
        {
            "cell_type": "code",
            "execution_count": 13,
            "metadata": {},
            "outputs": [
                {
                    "name": "stdout",
                    "output_type": "stream",
                    "text": [
                        "+-------+--------+----------+--------------------+--------------------+-----+\n",
                        "|overall|verified|      asin|          reviewText|             summary|words|\n",
                        "+-------+--------+----------+--------------------+--------------------+-----+\n",
                        "|    5.0|   False|9742356831|I have two things...|Authentic, easy, ...|  458|\n",
                        "|    4.0|   False|B00005344V|I'm in the medica...|A quality item th...|  399|\n",
                        "|    4.0|   False|B00005344V|I'm in the medica...|A quality item th...|  399|\n",
                        "|    5.0|    True|9742356831|I ordered both th...|Mae Ploy curries ...|  323|\n",
                        "|    5.0|   False|9742356831|As an experienced...|          Very nice!|  269|\n",
                        "|    5.0|   False|B00004W4VD|I have to admit w...|Ground beef jerky...|  263|\n",
                        "|    5.0|   False|B00004W4VD|I have to admit w...|Ground beef jerky...|  263|\n",
                        "|    5.0|   False|B00004W4VD|I am a casual use...|hesitant at first...|  248|\n",
                        "|    5.0|   False|B00004W4VD|I am a casual use...|hesitant at first...|  248|\n",
                        "|    4.0|   False|B00005AS53|After using the w...|Not perfect, but ...|  248|\n",
                        "|    4.0|   False|B00005AS53|After using the w...|Not perfect, but ...|  248|\n",
                        "|    4.0|   False|B000052Y74|I have to start a...| all right by me !!!|  233|\n",
                        "|    4.0|   False|B000052Y74|I have to start a...| all right by me !!!|  233|\n",
                        "|    3.0|   False|B00004W4VD|I purchased their...|            It works|  231|\n",
                        "|    3.0|   False|B00004W4VD|I purchased their...|            It works|  231|\n",
                        "|    5.0|    True|9742356831|Yummy! Good, auth...|Good paste for gr...|  219|\n",
                        "|    5.0|    True|B00005344V|Whenever I get a ...|Great! Can really...|  218|\n",
                        "|    5.0|    True|B00005344V|Whenever I get a ...|Great! Can really...|  218|\n",
                        "|    5.0|    True|B00004W4VD|Like others, I wa...|Makes great jerky...|  207|\n",
                        "|    5.0|    True|B00004W4VD|Like others, I wa...|Makes great jerky...|  207|\n",
                        "+-------+--------+----------+--------------------+--------------------+-----+\n",
                        "only showing top 20 rows\n",
                        "\n"
                    ]
                }
            ],
            "source": [
                "import pyspark.sql.functions as f\n",
                "products_wc.withColumn(\"words\", \n",
                "                       f.size(f.split(products_wc['reviewText'],\n",
                "                                      ' '))).orderBy(f.desc('words')).show()"
            ]
        },
        {
            "cell_type": "code",
            "execution_count": 171,
            "metadata": {},
            "outputs": [
                {
                    "name": "stdout",
                    "output_type": "stream",
                    "text": [
                        "+-------+--------+----------+--------------------+--------------------+--------------------+---+\n",
                        "|overall|verified|      asin|          reviewText|             summary|                data|cnt|\n",
                        "+-------+--------+----------+--------------------+--------------------+--------------------+---+\n",
                        "|    3.0|   False|B000052Y74|I like chewing gu...|Dry mouth patient...|[I, like, chewing...|  6|\n",
                        "|    3.0|   False|B000052Y74|I like chewing gu...|Dry mouth patient...|[I, like, chewing...|  6|\n",
                        "|    2.0|    True|5463213682|I like Organo Gol...|Cafe Supreme Not ...|[I, like, Organo,...|  4|\n",
                        "|    5.0|    True|B00005344V|Seems like they m...|   Excellent product|[Seems, like, the...|  4|\n",
                        "|    3.0|    True|9742356831|This green curry ...|Hope you like it ...|[This, green, cur...|  4|\n",
                        "|    5.0|    True|B00005344V|Seems like they m...|   Excellent product|[Seems, like, the...|  4|\n",
                        "|    2.0|   False|9742356831|My husband likes ...|Too much red chil...|[My, husband, lik...|  3|\n",
                        "|    5.0|    True|4639725043|Tastes like the t...|This is what I've...|[Tastes, like, th...|  3|\n",
                        "|    4.0|    True|9742356831|I have Mae Ploy Y...|           Very hot!|[I, have, Mae, Pl...|  3|\n",
                        "|    5.0|   False|9742356831|I have two things...|Authentic, easy, ...|[I, have, two, th...|  3|\n",
                        "|    5.0|   False|B00005344V|I love, love, lov...|Licorice action i...|[I, love,, love,,...|  3|\n",
                        "|    3.0|    True|9742356831|I wish it had mor...|I wish it had mor...|[I, wish, it, had...|  3|\n",
                        "|    3.0|    True|4639725043|Lipton orange pek...|Not your Average ...|[Lipton, orange, ...|  3|\n",
                        "|    5.0|    True|9742356831|I love this curry...|       So flavorful!|[I, love, this, c...|  3|\n",
                        "|    5.0|   False|B00005344V|I love, love, lov...|Licorice action i...|[I, love,, love,,...|  3|\n",
                        "|    5.0|    True|B00005BPQ9|Either you love t...|           Yummy ...|[Either, you, lov...|  3|\n",
                        "|    5.0|    True|B00005BPQ9|Either you love t...|           Yummy ...|[Either, you, lov...|  3|\n",
                        "|    5.0|    True|9742356831|I absolutely love...|  Great Thai flavor!|[I, absolutely, l...|  3|\n",
                        "|    5.0|    True|5463213682|I love this coffe...|Perfect energy boost|[I, love, this, c...|  2|\n",
                        "|    5.0|    True|5463213682|It's my favorite ...|          Five Stars|[It's, my, favori...|  2|\n",
                        "+-------+--------+----------+--------------------+--------------------+--------------------+---+\n",
                        "only showing top 20 rows\n",
                        "\n"
                    ]
                }
            ],
            "source": [
                "#### MAIN\n",
                "\n",
                "products.withColumn('data', f.split('reviewText', ' ')) \\\n",
                "           .withColumn('cnt', f.expr('size(filter(data, x -> x in (\"love\", \"like\")))'))\\\n",
                ".orderBy(f.desc('cnt')).show()"
            ]
        },
        {
            "cell_type": "code",
            "execution_count": 154,
            "metadata": {},
            "outputs": [
                {
                    "data": {
                        "text/plain": [
                            "1"
                        ]
                    },
                    "execution_count": 154,
                    "metadata": {},
                    "output_type": "execute_result"
                }
            ],
            "source": [
                "mm.count(\"love\")"
            ]
        },
        {
            "cell_type": "code",
            "execution_count": 152,
            "metadata": {},
            "outputs": [],
            "source": [
                "mm = \"I like Organo Gold products.  I was an Organo Gold distributor.  However, I wasn't interested in all the hype and the going to this meeting, that meeting, this event, and more.  However, I really liked the coffee though I am not a coffee drinker.  I drink the Mocha and Latte.  I purchased the Cafe Supreme just to try something different.  I didn't like the taste.  It tasted like it had burnt wood shavings in it.  Perhaps a coffee drinker would love that taste.  I didn't.|Cafe Supreme Not Good For Me\""
            ]
        },
        {
            "cell_type": "code",
            "execution_count": 155,
            "metadata": {},
            "outputs": [
                {
                    "data": {
                        "text/plain": [
                            "4"
                        ]
                    },
                    "execution_count": 155,
                    "metadata": {},
                    "output_type": "execute_result"
                }
            ],
            "source": [
                "mm.count(\"like\")"
            ]
        },
        {
            "cell_type": "code",
            "execution_count": 185,
            "metadata": {},
            "outputs": [],
            "source": [
                "dd=products.withColumn('count', f.size(f.split(f.col(\"reviewText\"), \"like|love\"))-1).orderBy(f.desc('count'))"
            ]
        },
        {
            "cell_type": "code",
            "execution_count": 173,
            "metadata": {},
            "outputs": [
                {
                    "name": "stdout",
                    "output_type": "stream",
                    "text": [
                        "+-------+--------+----------+--------------------+--------------------+-----+\n",
                        "|overall|verified|      asin|          reviewText|             summary|count|\n",
                        "+-------+--------+----------+--------------------+--------------------+-----+\n",
                        "|    3.0|   False|B000052Y74|I like chewing gu...|Dry mouth patient...|    7|\n",
                        "|    3.0|   False|B000052Y74|I like chewing gu...|Dry mouth patient...|    7|\n",
                        "|    2.0|    True|5463213682|I like Organo Gol...|Cafe Supreme Not ...|    5|\n",
                        "|    5.0|   False|B00005344V|I love, love, lov...|Licorice action i...|    5|\n",
                        "|    5.0|   False|B00005344V|I love, love, lov...|Licorice action i...|    5|\n",
                        "+-------+--------+----------+--------------------+--------------------+-----+\n",
                        "only showing top 5 rows\n",
                        "\n"
                    ]
                }
            ],
            "source": [
                "dd.show(5, truncate=True)"
            ]
        },
        {
            "cell_type": "code",
            "execution_count": 162,
            "metadata": {},
            "outputs": [],
            "source": [
                "stri = \"I like chewing gum for my dry mouth, but Biotene is not my favorite: it is expensive, hard to find, and, in my opinion, not any better than many traditional chewing gums.  You have to chew two and a time, and that costs about $.20 per use at the listed price, not including shipping. The gum is boring and small and doesn't retain flavor or the texture I like, so I don't chew it very long when I use it. I don't like hard gums like Dentine or bubble gum; I usually use a soft sugar free gum like Extra.  It's cheap and comes in lots of flavors and stimulates saliva flow. I'm not a big chewer, I mostly suck on it, or let it sit in my mouth.  Biotene may be better in terms of mildness, but I love flavored gum, and am not willing to shell out so much to keep buying Biotene gum. (I do like Biotene toothpaste , though.)|Dry mouth patient reviews Biotene gum.\""
            ]
        },
        {
            "cell_type": "code",
            "execution_count": 169,
            "metadata": {
                "scrolled": true
            },
            "outputs": [
                {
                    "data": {
                        "text/plain": [
                            "1"
                        ]
                    },
                    "execution_count": 169,
                    "metadata": {},
                    "output_type": "execute_result"
                }
            ],
            "source": [
                "stri.count(\"love\")"
            ]
        },
        {
            "cell_type": "code",
            "execution_count": 215,
            "metadata": {},
            "outputs": [],
            "source": [
                "#regex = \"\\\\d+(\\\\.\\\\d+)?%\"\n",
                "regex = '\\d+(?:\\.\\d+)?%'"
            ]
        },
        {
            "cell_type": "code",
            "execution_count": 222,
            "metadata": {},
            "outputs": [
                {
                    "name": "stdout",
                    "output_type": "stream",
                    "text": [
                        "CPU times: user 1.97 ms, sys: 1.82 ms, total: 3.79 ms\n",
                        "Wall time: 76.6 ms\n"
                    ]
                }
            ],
            "source": [
                "%%time\n",
                "reg=products_wc.withColumn('count', f.size(f.split(f.col(\"reviewText\"), regex))-1).orderBy(f.desc('count'))"
            ]
        },
        {
            "cell_type": "code",
            "execution_count": 180,
            "metadata": {},
            "outputs": [],
            "source": [
                "#reg.show(5, truncate=False)"
            ]
        },
        {
            "cell_type": "code",
            "execution_count": 223,
            "metadata": {},
            "outputs": [
                {
                    "name": "stdout",
                    "output_type": "stream",
                    "text": [
                        "+-------+--------+----------+--------------------+--------------------+-----+\n",
                        "|overall|verified|      asin|          reviewText|             summary|count|\n",
                        "+-------+--------+----------+--------------------+--------------------+-----+\n",
                        "|    5.0|    True|B00005344V|I love the tradit...|Traditional Medic...|    3|\n",
                        "|    5.0|    True|9742356831|Last year I spent...|Great & authentic...|    1|\n",
                        "|    5.0|   False|B00004W4VD|I am a casual use...|hesitant at first...|    1|\n",
                        "|    5.0|   False|9742356831|This green curry ...|    Can not go wrong|    1|\n",
                        "|    5.0|   False|B00004W4VD|I am a casual use...|hesitant at first...|    1|\n",
                        "|    5.0|    True|B00005344V|I love the tradit...|Traditional Medic...|    1|\n",
                        "|    5.0|    True|B00005344V|I love the tradit...|Traditional Medic...|    1|\n",
                        "|    4.0|   False|9742356831|I thought the fla...|      Good but salty|    1|\n",
                        "|    4.0|    True|9742356831|pretty good curry...|          good curry|    1|\n",
                        "|    5.0|    True|1888861614|Very pleased with...|             Love it|    0|\n",
                        "|    4.0|    True|1888861614|Very nicely craft...|      Nice but small|    0|\n",
                        "|    4.0|    True|1888861614|still very pretty...|the \"s\" looks lik...|    0|\n",
                        "|    5.0|    True|1888861614|Omg.. The S was i...|Great quality for...|    0|\n",
                        "|    5.0|    True|1888861614|This arrived in t...|           So pretty|    0|\n",
                        "|    5.0|    True|1888861614|I got this for ou...|Would recommend t...|    0|\n",
                        "|    4.0|    True|1888861614|It was just what ...|              Topper|    0|\n",
                        "|    3.0|    True|1888861614|It was a nice siz...|          Great Buy.|    0|\n",
                        "|    5.0|    True|1888861614|Perfect!!! Can no...|       Very Pretty!!|    0|\n",
                        "|    5.0|    True|4639725183| No adverse comment.|          Five Stars|    0|\n",
                        "|    1.0|    True|1888861614|The S is beautifu...|   shipping disaster|    0|\n",
                        "+-------+--------+----------+--------------------+--------------------+-----+\n",
                        "only showing top 20 rows\n",
                        "\n"
                    ]
                }
            ],
            "source": [
                "reg.show()"
            ]
        },
        {
            "cell_type": "code",
            "execution_count": 221,
            "metadata": {},
            "outputs": [
                {
                    "name": "stdout",
                    "output_type": "stream",
                    "text": [
                        "+-------+--------+----------+----------------------------------------------------------------------------------------------------------------------------------------------------------------------------------------+-----------------------------------------------------------------+\n",
                        "|overall|verified|asin      |reviewText                                                                                                                                                                              |summary                                                          |\n",
                        "+-------+--------+----------+----------------------------------------------------------------------------------------------------------------------------------------------------------------------------------------+-----------------------------------------------------------------+\n",
                        "|5.0    |True    |1888861614|Very pleased with my purchase. Looks exactly like the picture and will look great on my cake. It definitely will sparkle.                                                               |Love it                                                          |\n",
                        "|4.0    |True    |1888861614|Very nicely crafted but too small. Am going to have to add some flowers or something to compensate for the size.                                                                        |Nice but small                                                   |\n",
                        "|4.0    |True    |1888861614|still very pretty and well made...i am super picky so don't listen to me...*whispers* but it does look like the number 5...                                                             |the \"s\" looks like a 5, kina                                     |\n",
                        "|5.0    |True    |1888861614|I got this for our wedding cake, and it was everything even more on in person, I would recommend this to anyone.                                                                        |Would recommend this to a friend!                                |\n",
                        "|4.0    |True    |1888861614|It was just what I want to put at the top of my wedding cake. I love it & it's true to the picture.                                                                                     |Topper                                                           |\n",
                        "|1.0    |True    |1888861614|The S is beautiful, however upon checkout it informed me that it would be here by saturday at the latest (wedding was Sunday) it did not come in until monday AFTER the wedding.        |shipping disaster                                                |\n",
                        "|5.0    |True    |1888861614|Omg.. The S was inexpensive and EXACTLY what we wanted. I searched everywhere and this one was the best one.                                                                            |Great quality for this product. I have never been more satisfied.|\n",
                        "|3.0    |True    |1888861614|It was a nice size for a cake topper and it was very sparkley. I will purchase more products in the future from this source.                                                            |Great Buy.                                                       |\n",
                        "|5.0    |True    |1888861614|Perfect!!! Can not wait to use on my Wedding cake in November good quality just the right about of bling                                                                                |Very Pretty!!                                                    |\n",
                        "|5.0    |True    |1888861614|This was exactly what we were looking for to make our cake sparkle along with the strands of diamonds we already have on the cake!                                                      |Perfect!                                                         |\n",
                        "|5.0    |True    |1888861614|This arrived in the mail and it was packaged so well so it doesn't break. It's so pretty and well worth my money! Can't wait to use it on my wedding cake :D                            |So pretty                                                        |\n",
                        "|5.0    |True    |4639725183|No adverse comment.                                                                                                                                                                     |Five Stars                                                       |\n",
                        "|5.0    |True    |4639725183|These are hard to find locally and Amazon has it for a good price.  I first tasted this tea in Costa Rica and loved it.                                                                 |Wonderful tea and great price too!                               |\n",
                        "|5.0    |True    |4639725183|Best black tea in US. Highly recommend.\n",
                        "I use 3 bags in a large 16 oz glass mug with boiled water then add boiled milk & sugar. Oh my, it's wonderful. I wish I could drink it at night.|Best black tea in US                                             |\n",
                        "|5.0    |True    |4639725183|if you like strong flavorful tea you will enjoy this Yellow Label                                                                                                                       |Five Stars                                                       |\n",
                        "+-------+--------+----------+----------------------------------------------------------------------------------------------------------------------------------------------------------------------------------------+-----------------------------------------------------------------+\n",
                        "only showing top 15 rows\n",
                        "\n"
                    ]
                }
            ],
            "source": [
                "products.show(15, truncate=False)"
            ]
        },
        {
            "cell_type": "code",
            "execution_count": null,
            "metadata": {},
            "outputs": [],
            "source": []
        }
    ],
    "metadata": {
        "kernelspec": {
            "display_name": "Python 3",
            "language": "python",
            "name": "python3"
        },
        "language_info": {
            "codemirror_mode": {
                "name": "ipython",
                "version": 3
            },
            "file_extension": ".py",
            "mimetype": "text/x-python",
            "name": "python",
            "nbconvert_exporter": "python",
            "pygments_lexer": "ipython3",
            "version": "3.8.8"
        }
    },
    "nbformat": 4,
    "nbformat_minor": 2
}
